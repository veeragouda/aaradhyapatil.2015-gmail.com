{
  "nbformat": 4,
  "nbformat_minor": 0,
  "metadata": {
    "colab": {
      "name": "heart_diseas_predic",
      "provenance": [],
      "authorship_tag": "ABX9TyOt6canFC+rL4mBL84mLDon",
      "include_colab_link": true
    },
    "kernelspec": {
      "name": "python3",
      "display_name": "Python 3"
    }
  },
  "cells": [
    {
      "cell_type": "markdown",
      "metadata": {
        "id": "view-in-github",
        "colab_type": "text"
      },
      "source": [
        "<a href=\"https://colab.research.google.com/github/veeragouda/aaradhyapatil.2015-gmail.com/blob/master/heart_disease_prediction.ipynb\" target=\"_parent\"><img src=\"https://colab.research.google.com/assets/colab-badge.svg\" alt=\"Open In Colab\"/></a>"
      ]
    },
    {
      "cell_type": "code",
      "metadata": {
        "id": "NnuC90JX4sSs",
        "colab_type": "code",
        "colab": {}
      },
      "source": [
        "import pandas as pd\n",
        "import numpy as np\n",
        "import matplotlib.pyplot as plt\n",
        "import seaborn as sns"
      ],
      "execution_count": null,
      "outputs": []
    },
    {
      "cell_type": "markdown",
      "metadata": {
        "id": "1RptTgWZ5SIQ",
        "colab_type": "text"
      },
      "source": [
        ""
      ]
    },
    {
      "cell_type": "code",
      "metadata": {
        "id": "YhFZZUyq5cXd",
        "colab_type": "code",
        "colab": {}
      },
      "source": [
        "data = pd.read_csv('../input/heart-disease-uci/heart.csv')"
      ],
      "execution_count": null,
      "outputs": []
    },
    {
      "cell_type": "code",
      "metadata": {
        "id": "ySihbNJx5dQh",
        "colab_type": "code",
        "colab": {}
      },
      "source": [
        "data.describe"
      ],
      "execution_count": null,
      "outputs": []
    },
    {
      "cell_type": "code",
      "metadata": {
        "id": "8dOPoCe25li_",
        "colab_type": "code",
        "colab": {}
      },
      "source": [
        "data.columns"
      ],
      "execution_count": null,
      "outputs": []
    },
    {
      "cell_type": "code",
      "metadata": {
        "id": "s0JrDy-d5nQP",
        "colab_type": "code",
        "colab": {}
      },
      "source": [
        "data.head()"
      ],
      "execution_count": null,
      "outputs": []
    },
    {
      "cell_type": "code",
      "metadata": {
        "id": "8gKyzkFT5w8o",
        "colab_type": "code",
        "colab": {}
      },
      "source": [
        "# target is the output and the final conclusion if a person has heart disease or not \n",
        "data.target.value_counts()"
      ],
      "execution_count": null,
      "outputs": []
    },
    {
      "cell_type": "markdown",
      "metadata": {
        "id": "gQ14ovUI5yTm",
        "colab_type": "text"
      },
      "source": [
        "2. Data Description :\n",
        "sex : 1 - male , 0- female\n",
        "cp : chest pain type --> 1,2,3,0 (essentially of 4 types)\n",
        "trestbps: resting blood pressure ---> integers\n",
        "chol : serum cholestoral --> int\n",
        "fbs : fasting blood sugar\n",
        "restecg : resting electrocardiographic result\n",
        "thalach : maximum heart rate achieved\n",
        "exang : exercise induced angina 1-Y ,0 - N\n",
        "Oldpeak : ST depression induced by exercise relative to rest\n",
        "slope - the slope of the peak exercise ST segment\n",
        "ca - number of major vessels (0-3) colored by flourosopy\n",
        "thal - 3 = normal; 6 = fixed defect; 7 = reversable defect\n",
        "target : Actual values ie. have the disease(1) or not(0)"
      ]
    },
    {
      "cell_type": "code",
      "metadata": {
        "id": "LWvoddNd6HLR",
        "colab_type": "code",
        "colab": {}
      },
      "source": [
        "!pip install pandas-profiling"
      ],
      "execution_count": null,
      "outputs": []
    },
    {
      "cell_type": "markdown",
      "metadata": {
        "id": "SUtxts8c6NIP",
        "colab_type": "text"
      },
      "source": [
        "🏋\n",
        "Power pact EDA in seconds &;\n",
        "Pandas Profiling"
      ]
    },
    {
      "cell_type": "code",
      "metadata": {
        "id": "nW5GWNCw6ZVm",
        "colab_type": "code",
        "colab": {}
      },
      "source": [
        "from pandas_profiling import ProfileReport\n",
        "prof = ProfileReport(data)\n",
        "prof.to_file(output_file='output.html')"
      ],
      "execution_count": null,
      "outputs": []
    },
    {
      "cell_type": "code",
      "metadata": {
        "id": "DMBYF6-W6jiX",
        "colab_type": "code",
        "colab": {}
      },
      "source": [
        "prof\n"
      ],
      "execution_count": null,
      "outputs": []
    },
    {
      "cell_type": "code",
      "metadata": {
        "id": "Y6m6qZ_C6p13",
        "colab_type": "code",
        "colab": {}
      },
      "source": [
        "!pip install sweetviz"
      ],
      "execution_count": null,
      "outputs": []
    },
    {
      "cell_type": "markdown",
      "metadata": {
        "id": "4NdwaWeT6t8_",
        "colab_type": "text"
      },
      "source": [
        "Sweetviz"
      ]
    },
    {
      "cell_type": "code",
      "metadata": {
        "id": "pGLruZuS6xWm",
        "colab_type": "code",
        "colab": {}
      },
      "source": [
        "report = sweetviz.analyze(data)"
      ],
      "execution_count": null,
      "outputs": []
    },
    {
      "cell_type": "code",
      "metadata": {
        "id": "z1PPsiuG60_H",
        "colab_type": "code",
        "colab": {}
      },
      "source": [
        "#display the report\n",
        "report.show_html('Heart_EDA.html')"
      ],
      "execution_count": null,
      "outputs": []
    },
    {
      "cell_type": "code",
      "metadata": {
        "id": "Z0mvnqgX636n",
        "colab_type": "code",
        "colab": {}
      },
      "source": [
        ""
      ],
      "execution_count": null,
      "outputs": []
    },
    {
      "cell_type": "code",
      "metadata": {
        "id": "ZFx6aLKs67jH",
        "colab_type": "code",
        "colab": {}
      },
      "source": [
        ""
      ],
      "execution_count": null,
      "outputs": []
    },
    {
      "cell_type": "markdown",
      "metadata": {
        "id": "ieu5sIat68qh",
        "colab_type": "text"
      },
      "source": [
        "2. Feature Engineering😎\n",
        "this is the second part of the kernel wherein relationship between each column of the dataset and 2 generalized attributes , in our case sex✅ and age✅ , is made to derive insights form the figures and find which feature is relatively more important for the model and will have a greater impact on the model accuracy and provide relevent predictions ."
      ]
    },
    {
      "cell_type": "code",
      "metadata": {
        "id": "_idrNJwz7A8p",
        "colab_type": "code",
        "colab": {}
      },
      "source": [
        "ax = sns.countplot(x=\"cp\",hue=\"sex\", data=data)\n",
        "plt.title('Heart Disease count According To Chest Pain Type')\n",
        "plt.xlabel('Chest Pain Type')\n",
        "plt.ylabel('Count ')"
      ],
      "execution_count": null,
      "outputs": []
    },
    {
      "cell_type": "markdown",
      "metadata": {
        "id": "XEcgrIQ07JAY",
        "colab_type": "text"
      },
      "source": [
        "2.1 chest pain types : ✅\n",
        "It is essentially of 4 types and coded in the dataset as 0,1,2,3 .\n",
        "The firat graph prescribes the relation between the 4 types of pains and most number of males and females suffer from type 0 chest pain while the 3rd kind of chest pain is least common. We can easily infer from the chart that type 0 and type 2 chest pains can be important in determining a heart disease."
      ]
    },
    {
      "cell_type": "code",
      "metadata": {
        "id": "iobYtMdU7KGA",
        "colab_type": "code",
        "colab": {}
      },
      "source": [
        "fig_dims = (6,6)\n",
        "fig, ax = plt.subplots(figsize=fig_dims)\n",
        "ax = sns.barplot(x=\"target\",y=\"trestbps\", hue=\"sex\", data=data)\n",
        "plt.title('Heart Disease Frequency According To resting blood pressure  ')\n",
        "plt.xlabel('Target : Disease or not ')\n",
        "plt.ylabel('trst beats per second ')"
      ],
      "execution_count": 5,
      "outputs": []
    },
    {
      "cell_type": "markdown",
      "metadata": {
        "id": "tcW6O7AC7XxZ",
        "colab_type": "text"
      },
      "source": [
        "2.2 Resting heart Beat❌\n",
        "resting heart rate, the target is between 60 and 100 beats per minute (BPM) The heatmap density reveals that most cases"
      ]
    },
    {
      "cell_type": "code",
      "metadata": {
        "id": "7L08WoSL7Ofw",
        "colab_type": "code",
        "colab": {}
      },
      "source": [
        "sns.catplot(x=\"target\", y=\"trestbps\", data=data, kind=\"box\")"
      ],
      "execution_count": null,
      "outputs": []
    },
    {
      "cell_type": "markdown",
      "metadata": {
        "id": "tZlCZNiy7fMw",
        "colab_type": "text"
      },
      "source": [
        "The resting heart beat plot is also misleading and alost the same for the person who has a heart disease or not"
      ]
    },
    {
      "cell_type": "code",
      "metadata": {
        "id": "NaksjUqY7Os3",
        "colab_type": "code",
        "colab": {}
      },
      "source": [
        "fig_dims = (6,6)\n",
        "fig, ax = plt.subplots(figsize=fig_dims)\n",
        "fig = sns.violinplot(x=data['target'], y=data['chol'])"
      ],
      "execution_count": null,
      "outputs": []
    },
    {
      "cell_type": "markdown",
      "metadata": {
        "id": "G3t7NZx_7lcp",
        "colab_type": "text"
      },
      "source": [
        "Choslestrol levels is alomst same for both plots hence non relevent\""
      ]
    },
    {
      "cell_type": "code",
      "metadata": {
        "id": "C9lI5ZCW7OxV",
        "colab_type": "code",
        "colab": {}
      },
      "source": [
        "data.fbs.value_counts()"
      ],
      "execution_count": null,
      "outputs": []
    },
    {
      "cell_type": "markdown",
      "metadata": {
        "id": "spG7uNDT7tuA",
        "colab_type": "text"
      },
      "source": [
        "2.4 Fasting Blood Sugar\n",
        "\n",
        "A fasting blood sugar level less than 100 mg/dL (5.6 mmol/L) is normal. A fasting blood sugar level from 100 to 125 mg/dL (5.6 to 6.9 mmol/L) is considered prediabetes. If it's 126 mg/dL (7 mmol/L) or higher on two separate tests, you have diabetes."
      ]
    },
    {
      "cell_type": "code",
      "metadata": {
        "id": "I_Aw93g_7O0x",
        "colab_type": "code",
        "colab": {}
      },
      "source": [
        "sns.countplot(data=data, x=\"fbs\", hue=\"target\")\n",
        "plt.title('Heart Disease Frequency According To FBS')\n",
        "plt.xlabel('FBS - (Fasting Blood Sugar > 120 mg/dl) (1 = true; 0 = false)')\n",
        "plt.xticks(rotation = 0)\n",
        "plt.legend([\"Haven't Disease\", \"Have Disease\"])\n",
        "plt.ylabel('Frequency of Disease or Not')\n",
        "plt.show()"
      ],
      "execution_count": null,
      "outputs": []
    },
    {
      "cell_type": "markdown",
      "metadata": {
        "id": "Wjto4eaL73TK",
        "colab_type": "text"
      },
      "source": [
        "Since we are not provided with the exact values of fbs the people have a detailed exploration can't be made but having fasting bs is a prooven fact of heart disease and an important parameter to judge the model it will be considered."
      ]
    },
    {
      "cell_type": "code",
      "metadata": {
        "id": "WlNfrqcE7O6F",
        "colab_type": "code",
        "colab": {}
      },
      "source": [
        "sequential_colors = sns.color_palette(\"PuRd\", 2)\n",
        "sns.palplot(sequential_colors)"
      ],
      "execution_count": null,
      "outputs": []
    },
    {
      "cell_type": "markdown",
      "metadata": {
        "id": "ZHauuX4O8BtC",
        "colab_type": "text"
      },
      "source": [
        "2.5 restecg : resting electrocardiographic result❌"
      ]
    },
    {
      "cell_type": "code",
      "metadata": {
        "id": "scVbDIi47O9K",
        "colab_type": "code",
        "colab": {}
      },
      "source": [
        "sns.set_palette(sequential_colors)"
      ],
      "execution_count": null,
      "outputs": []
    },
    {
      "cell_type": "code",
      "metadata": {
        "id": "TqvuIcST7O_x",
        "colab_type": "code",
        "colab": {}
      },
      "source": [
        "sns.countplot( x=data['restecg'], hue=data['target'])"
      ],
      "execution_count": null,
      "outputs": []
    },
    {
      "cell_type": "markdown",
      "metadata": {
        "id": "kWxJzWAL8NhD",
        "colab_type": "text"
      },
      "source": [
        "Not much valuable inferences can be made over categorical values"
      ]
    },
    {
      "cell_type": "code",
      "metadata": {
        "id": "J4osFLvM7PCz",
        "colab_type": "code",
        "colab": {}
      },
      "source": [
        "220-80"
      ],
      "execution_count": null,
      "outputs": []
    },
    {
      "cell_type": "markdown",
      "metadata": {
        "id": "FL0INuvG8qUD",
        "colab_type": "text"
      },
      "source": [
        "2.6 thalach : maximum heart rate achieved ✅\n",
        "\n",
        "You can calculate your maximum heart rate by subtracting your age from 220. For example, if you're 45 years old, subtract 45 from 220 to get a maximum heart rate of 175. This is the average maximum number of times your heart should beat per minute during exercise"
      ]
    },
    {
      "cell_type": "code",
      "metadata": {
        "id": "7PbFSb927PFe",
        "colab_type": "code",
        "colab": {}
      },
      "source": [
        "sns.boxplot(y=data['thalach'], x=data['target'])"
      ],
      "execution_count": null,
      "outputs": []
    },
    {
      "cell_type": "code",
      "metadata": {
        "id": "KkbCOHp-8vbr",
        "colab_type": "code",
        "colab": {}
      },
      "source": [
        "import plotly.express as px"
      ],
      "execution_count": null,
      "outputs": []
    },
    {
      "cell_type": "code",
      "metadata": {
        "id": "1628SY7r8yy0",
        "colab_type": "code",
        "colab": {}
      },
      "source": [
        "fig = px.scatter(data, x=\"thalach\", y=\"age\", color=\"target\")\n",
        "fig.add_shape(\n",
        "        # Line Vertical\n",
        "        dict(\n",
        "            type=\"line\",\n",
        "            x0=140,\n",
        "            y0=0,\n",
        "            x1=140,\n",
        "            y1=80,\n",
        "            line=dict(\n",
        "                color=\"RoyalBlue\",\n",
        "                width=3\n",
        "            )\n",
        "))\n",
        "fig.add_shape(\n",
        "        # Line Vertical\n",
        "        dict(\n",
        "            type=\"line\",\n",
        "            x0=190,\n",
        "            y0=0,\n",
        "            x1=190,\n",
        "            y1=80,\n",
        "            line=dict(\n",
        "                color=\"RoyalBlue\",\n",
        "                width=3\n",
        "            )\n",
        "))"
      ],
      "execution_count": null,
      "outputs": []
    },
    {
      "cell_type": "markdown",
      "metadata": {
        "id": "Cws14iWB9FGY",
        "colab_type": "text"
      },
      "source": [
        "most heart patient lies in the active thalach range."
      ]
    },
    {
      "cell_type": "code",
      "metadata": {
        "id": "i5qZCuZE7PKg",
        "colab_type": "code",
        "colab": {}
      },
      "source": [
        "sns.set_palette(\"Paired\")"
      ],
      "execution_count": null,
      "outputs": []
    },
    {
      "cell_type": "markdown",
      "metadata": {
        "id": "PpEKIf8c9KlA",
        "colab_type": "text"
      },
      "source": [
        "2.7 exang : exercise induced angina "
      ]
    },
    {
      "cell_type": "code",
      "metadata": {
        "id": "klgTXddt7PNV",
        "colab_type": "code",
        "colab": {}
      },
      "source": [
        "sns.violinplot(x=data[\"exang\"], y=data[\"target\"])"
      ],
      "execution_count": null,
      "outputs": []
    },
    {
      "cell_type": "markdown",
      "metadata": {
        "id": "iTomGV6j9R88",
        "colab_type": "text"
      },
      "source": [
        "Although exercise induced Angima could be a valuable attribute but relative to the dataset people having exang do not face heart diesases and ppl not having exang go through heart diseases, so we drop this feature."
      ]
    },
    {
      "cell_type": "code",
      "metadata": {
        "id": "MIcQXi-o7PQe",
        "colab_type": "code",
        "colab": {}
      },
      "source": [
        "sequential_colors = sns.color_palette(\"summer\", 2)\n",
        "sns.palplot(sequential_colors)\n",
        "sns.set_palette(sequential_colors)"
      ],
      "execution_count": null,
      "outputs": []
    },
    {
      "cell_type": "markdown",
      "metadata": {
        "id": "MHi2S9Dz9XWx",
        "colab_type": "text"
      },
      "source": [
        "2.8 Oldpeak : \n",
        "\n",
        "ST depression induced by exercise relative to rest❌\n",
        "STD is an important factor in determining a heart disease and a"
      ]
    },
    {
      "cell_type": "code",
      "metadata": {
        "id": "1GrqoDUG7PIb",
        "colab_type": "code",
        "colab": {}
      },
      "source": [
        "sns.barplot(x=data[\"target\"], y=data[\"oldpeak\"])"
      ],
      "execution_count": null,
      "outputs": []
    },
    {
      "cell_type": "code",
      "metadata": {
        "id": "jNytgAU37O3f",
        "colab_type": "code",
        "colab": {}
      },
      "source": [
        "a = pd.get_dummies(data['cp'], prefix = \"cp\")\n",
        "b = pd.get_dummies(data['thal'], prefix = \"thal\")\n",
        "c = pd.get_dummies(data['slope'], prefix = \"slope\")\n",
        "d = pd.get_dummies(data['sex'], prefix = \"sex\")"
      ],
      "execution_count": null,
      "outputs": []
    },
    {
      "cell_type": "markdown",
      "metadata": {
        "id": "qvrMIhZv9knK",
        "colab_type": "text"
      },
      "source": [
        " Data Processing\n",
        "\n",
        "\n",
        "\n",
        "\n",
        "\n",
        "So now that we have filtered out 4 features that will be most important for our model for this particular dataset we will manipulate them in order to add them to our ml model. theses features are:\n",
        "\n",
        "Age -------------------------> Discrete Variable; \n",
        "\n",
        "Sex -------------------------> Nominal/Categorical Variable;\n",
        "\n",
        "Chest Pain Type -------------------------> Ordinal Variable;\n",
        "\n",
        "thalach -------------------------> Now since age and sex attributes do not have \n",
        "Categorical variables :"
      ]
    },
    {
      "cell_type": "code",
      "metadata": {
        "id": "1e0VQDX49f_x",
        "colab_type": "code",
        "colab": {}
      },
      "source": [
        "updated_clms = [data, a,b,c,d]\n",
        "data = pd.concat(updated_clms, axis=1)\n",
        "data.head()"
      ],
      "execution_count": null,
      "outputs": []
    },
    {
      "cell_type": "code",
      "metadata": {
        "id": "9bxQD2SH9gEA",
        "colab_type": "code",
        "colab": {}
      },
      "source": [
        "data = data.drop(columns = ['cp','thal', 'slope', 'sex'])"
      ],
      "execution_count": null,
      "outputs": []
    },
    {
      "cell_type": "code",
      "metadata": {
        "id": "UWqVurC69gIk",
        "colab_type": "code",
        "colab": {}
      },
      "source": [
        "from sklearn.preprocessing import StandardScaler\n",
        "standardScaler = StandardScaler()\n",
        "columns_to_scale = ['age', 'trestbps', 'chol', 'thalach', 'oldpeak']\n",
        "data[columns_to_scale] = standardScaler.fit_transform(data[columns_to_scale])"
      ],
      "execution_count": null,
      "outputs": []
    },
    {
      "cell_type": "markdown",
      "metadata": {
        "id": "BrXgG1fp98SA",
        "colab_type": "text"
      },
      "source": [
        "Scalling / Normalization"
      ]
    },
    {
      "cell_type": "markdown",
      "metadata": {
        "id": "cFOt52ML-jF1",
        "colab_type": "text"
      },
      "source": [
        ""
      ]
    },
    {
      "cell_type": "code",
      "metadata": {
        "id": "xQ5mV4cc9gLc",
        "colab_type": "code",
        "colab": {}
      },
      "source": [
        "y = data.target\n",
        "y"
      ],
      "execution_count": null,
      "outputs": []
    },
    {
      "cell_type": "markdown",
      "metadata": {
        "id": "qv5MuQX6-g6B",
        "colab_type": "text"
      },
      "source": [
        " Approach\n",
        "\n",
        "\n",
        "\n",
        "1. Selecting The \"Prediction\"\n",
        "\n",
        "We are very sure of what we want to predict the target values hence:"
      ]
    },
    {
      "cell_type": "code",
      "metadata": {
        "id": "WtgoYCxE9gOl",
        "colab_type": "code",
        "colab": {}
      },
      "source": [
        "\n",
        "X_important_features = data[['cp_1', 'cp_2','cp_3','thal_0','thal_1','thal_2','thal_3','slope_0','slope_1','slope_2']]"
      ],
      "execution_count": null,
      "outputs": []
    },
    {
      "cell_type": "markdown",
      "metadata": {
        "id": "NVHymtBD-pwi",
        "colab_type": "text"
      },
      "source": [
        "2. **Selecting the \"Features\"**\n",
        "Selecting the x attributes can be very daunting in case of multiple number of features in the dataset as a Data Scientist needs to be aware of what each column wants to convey and how much inpact will it have on the prediction and model accuracy, so that we can drop the less important features and simplify our problem. So there are 2 ways to it :\n",
        "\n",
        "Include all Features\n",
        "Include only most impactful Features\n",
        "For the simplicity of the project we would like to include all the features while the difference in incliuding important ones will be assigning a X var for them and repeting the same steps."
      ]
    },
    {
      "cell_type": "code",
      "metadata": {
        "id": "CRgPExOF9gSD",
        "colab_type": "code",
        "colab": {}
      },
      "source": [
        "from sklearn.model_selection import train_test_split\n",
        "X_train, X_test, y_train, y_test = train_test_split(X,y,test_size = 0.2,random_state=0)"
      ],
      "execution_count": null,
      "outputs": []
    },
    {
      "cell_type": "markdown",
      "metadata": {
        "id": "_pE1J_k8_SnV",
        "colab_type": "text"
      },
      "source": [
        "**3. Splitting the data into train test**\n",
        "\n",
        "For comparing and testing the viability of our model we need to split the heart.csv file into test and train data so that we can have a clear picture of how well our model is peforming and the overfitting stats."
      ]
    },
    {
      "cell_type": "code",
      "metadata": {
        "id": "kTfcBGhp9gYp",
        "colab_type": "code",
        "colab": {}
      },
      "source": [
        "#transpose matrices\n",
        "X_train = X_train.T\n",
        "y_train = y_train.T\n",
        "X_test = X_test.T\n",
        "y_test = y_test.T"
      ],
      "execution_count": null,
      "outputs": []
    },
    {
      "cell_type": "markdown",
      "metadata": {
        "id": "uiJX4taN_baB",
        "colab_type": "text"
      },
      "source": [
        ""
      ]
    },
    {
      "cell_type": "code",
      "metadata": {
        "id": "luNeySVe9gbb",
        "colab_type": "code",
        "colab": {}
      },
      "source": [
        "from sklearn.naive_bayes import GaussianNB\n",
        "nb = GaussianNB()\n",
        "nb.fit(X_train.T, y_train.T)"
      ],
      "execution_count": null,
      "outputs": []
    },
    {
      "cell_type": "markdown",
      "metadata": {
        "id": "pOtg02l9_f7b",
        "colab_type": "text"
      },
      "source": [
        "1. Naive **Bayes**"
      ]
    },
    {
      "cell_type": "code",
      "metadata": {
        "id": "nWwQcyyA9ggx",
        "colab_type": "code",
        "colab": {}
      },
      "source": [
        "accuracies = {}\n",
        "acc = nb.score(X_test.T,y_test.T)*100\n",
        "accuracies['Naive Bayes'] = acc\n",
        "print(\"Accuracy of Naive Bayes: {:.2f}%\".format(acc))"
      ],
      "execution_count": null,
      "outputs": []
    },
    {
      "cell_type": "markdown",
      "metadata": {
        "id": "zgO9xgfw_yS2",
        "colab_type": "text"
      },
      "source": [
        "Accuracy"
      ]
    },
    {
      "cell_type": "code",
      "metadata": {
        "id": "F7jucmHe9gpK",
        "colab_type": "code",
        "colab": {}
      },
      "source": [
        "y_pred=nb.predict(X_test.T)\n",
        "y_pred"
      ],
      "execution_count": null,
      "outputs": []
    },
    {
      "cell_type": "code",
      "metadata": {
        "id": "ElaNRpSP_sBz",
        "colab_type": "code",
        "colab": {}
      },
      "source": [
        "precisions={}\n",
        "recalls={}\n",
        "f1_scores={}"
      ],
      "execution_count": null,
      "outputs": []
    },
    {
      "cell_type": "code",
      "metadata": {
        "id": "kRXLpDYx_sGY",
        "colab_type": "code",
        "colab": {}
      },
      "source": [
        "from sklearn.metrics import confusion_matrix\n",
        "from sklearn.metrics import roc_auc_score"
      ],
      "execution_count": null,
      "outputs": []
    },
    {
      "cell_type": "markdown",
      "metadata": {
        "id": "5XsobKk3_52k",
        "colab_type": "text"
      },
      "source": [
        "**Confusion Matrix**"
      ]
    },
    {
      "cell_type": "code",
      "metadata": {
        "id": "O5v9A4g3_sJ4",
        "colab_type": "code",
        "colab": {}
      },
      "source": [
        "cf_matrix = confusion_matrix(y_test.T, y_pred)\n",
        "print(cf_matrix)"
      ],
      "execution_count": null,
      "outputs": []
    },
    {
      "cell_type": "code",
      "metadata": {
        "id": "EWi-WGjl_sSB",
        "colab_type": "code",
        "colab": {}
      },
      "source": [
        "sns.heatmap(cf_matrix/np.sum(cf_matrix), annot=True, \n",
        "            fmt='.2%', cmap='Blues')"
      ],
      "execution_count": null,
      "outputs": []
    },
    {
      "cell_type": "code",
      "metadata": {
        "id": "FhR5Mmg__sVE",
        "colab_type": "code",
        "colab": {}
      },
      "source": [
        "import scikitplot as skplt\n",
        "import matplotlib.pyplot as plt\n",
        "\n",
        "y_pred_proba = nb.predict_proba(X_test.T)\n",
        "y_true = y_test.T\n",
        "skplt.metrics.plot_roc_curve(y_true, y_pred_proba)\n",
        "plt.show()"
      ],
      "execution_count": null,
      "outputs": []
    },
    {
      "cell_type": "markdown",
      "metadata": {
        "id": "7oTauPYbAF4R",
        "colab_type": "text"
      },
      "source": [
        "**ROC scores**"
      ]
    },
    {
      "cell_type": "code",
      "metadata": {
        "id": "j-qdQiSB_sYu",
        "colab_type": "code",
        "colab": {}
      },
      "source": [
        "#recall\n",
        "from sklearn.metrics import recall_score\n",
        "recall = recall_score(y_test.T, y_pred)\n",
        "print('Recall: %.3f' % recall)\n",
        "\n",
        "recalls['Naive Bayes'] = recall"
      ],
      "execution_count": null,
      "outputs": []
    },
    {
      "cell_type": "code",
      "metadata": {
        "id": "kP0FS1Z2AJMC",
        "colab_type": "code",
        "colab": {}
      },
      "source": [
        "# precision\n",
        "from sklearn.metrics import precision_score\n",
        "precision = precision_score(y_test.T, y_pred)\n",
        "print('Precision: %.3f' % precision)\n",
        "\n",
        "precisions['Naive Bayes'] = precision"
      ],
      "execution_count": null,
      "outputs": []
    },
    {
      "cell_type": "code",
      "metadata": {
        "id": "DCyQ3e-BAJSF",
        "colab_type": "code",
        "colab": {}
      },
      "source": [
        "# fi score\n",
        "f1 = 2*((precision*recall)/(precision+recall))\n",
        "f1_scores['Naive Bayes'] = f1\n",
        "print(f1)"
      ],
      "execution_count": null,
      "outputs": []
    },
    {
      "cell_type": "code",
      "metadata": {
        "id": "ERPn_aKIAJVz",
        "colab_type": "code",
        "colab": {}
      },
      "source": [
        "import pickle\n",
        "filename = 'naive_bayes.h5'\n",
        "pickle.dump(nb, open(filename, 'wb'))"
      ],
      "execution_count": null,
      "outputs": []
    },
    {
      "cell_type": "code",
      "metadata": {
        "id": "2Bv4zoVDAJaQ",
        "colab_type": "code",
        "colab": {}
      },
      "source": [
        ""
      ],
      "execution_count": null,
      "outputs": []
    },
    {
      "cell_type": "code",
      "metadata": {
        "id": "etp2za-PAJhm",
        "colab_type": "code",
        "colab": {}
      },
      "source": [
        "from sklearn.neighbors import KNeighborsClassifier"
      ],
      "execution_count": null,
      "outputs": []
    },
    {
      "cell_type": "markdown",
      "metadata": {
        "id": "DdJoB8iPAaTn",
        "colab_type": "text"
      },
      "source": [
        "**KNN**"
      ]
    },
    {
      "cell_type": "code",
      "metadata": {
        "id": "S62M4m0CAJlV",
        "colab_type": "code",
        "colab": {}
      },
      "source": [
        "knn = KNeighborsClassifier(n_neighbors = 2)  # n_neighbors means k\n",
        "knn.fit(X_train.T, y_train.T)\n",
        "prediction = knn.predict(X_test.T)"
      ],
      "execution_count": null,
      "outputs": []
    },
    {
      "cell_type": "code",
      "metadata": {
        "id": "f_YTB0jaAJrd",
        "colab_type": "code",
        "colab": {}
      },
      "source": [
        "print(\"{} NN Score: {:.2f}%\".format(2, knn.score(X_test.T, y_test.T)*100))"
      ],
      "execution_count": null,
      "outputs": []
    },
    {
      "cell_type": "code",
      "metadata": {
        "id": "Gv4oHr7lAJvT",
        "colab_type": "code",
        "colab": {}
      },
      "source": [
        "knn = KNeighborsClassifier(n_neighbors = 18)  # n_neighbors means k\n",
        "knn.fit(X_train.T, y_train.T)\n",
        "prediction = knn.predict(X_test.T)\n",
        "print(\"{} NN Score: {:.2f}%\".format(2, knn.score(X_test.T, y_test.T)*100))"
      ],
      "execution_count": null,
      "outputs": []
    },
    {
      "cell_type": "code",
      "metadata": {
        "id": "VSRdBwX7AJyt",
        "colab_type": "code",
        "colab": {}
      },
      "source": [
        "acc = knn.score(X_test.T,y_test.T)*100\n",
        "accuracies['KNN'] = acc\n",
        "print(\"Accuracy of KNN: {:.2f}%\".format(acc))"
      ],
      "execution_count": null,
      "outputs": []
    },
    {
      "cell_type": "markdown",
      "metadata": {
        "id": "Tvpu_jtIArXx",
        "colab_type": "text"
      },
      "source": [
        "Accuracy"
      ]
    },
    {
      "cell_type": "code",
      "metadata": {
        "id": "3tM3aXJNAnOv",
        "colab_type": "code",
        "colab": {}
      },
      "source": [
        "y_pred=knn.predict(X_test.T)\n",
        "y_pred"
      ],
      "execution_count": null,
      "outputs": []
    },
    {
      "cell_type": "code",
      "metadata": {
        "id": "rfKUEScmAnT3",
        "colab_type": "code",
        "colab": {}
      },
      "source": [
        "cf_matrix = confusion_matrix(y_test.T, y_pred)\n",
        "\n",
        "sns.heatmap(cf_matrix/np.sum(cf_matrix), annot=True, \n",
        "            fmt='.2%', cmap='Blues')"
      ],
      "execution_count": null,
      "outputs": []
    },
    {
      "cell_type": "code",
      "metadata": {
        "id": "19Au8DuKA6c3",
        "colab_type": "code",
        "colab": {}
      },
      "source": [
        ""
      ],
      "execution_count": null,
      "outputs": []
    },
    {
      "cell_type": "markdown",
      "metadata": {
        "id": "XnaZ7ammAyMh",
        "colab_type": "text"
      },
      "source": [
        " Confusion Matrix"
      ]
    },
    {
      "cell_type": "code",
      "metadata": {
        "id": "sIjAC98aAnbT",
        "colab_type": "code",
        "colab": {}
      },
      "source": [
        "import scikitplot as skplt\n",
        "import matplotlib.pyplot as plt\n",
        "\n",
        "y_pred_proba = knn.predict_proba(X_test.T)\n",
        "y_true = y_test.T\n",
        "skplt.metrics.plot_roc_curve(y_true, y_pred_proba)\n",
        "plt.show()"
      ],
      "execution_count": null,
      "outputs": []
    },
    {
      "cell_type": "markdown",
      "metadata": {
        "id": "QUbbqTArA533",
        "colab_type": "text"
      },
      "source": [
        " ROC Score"
      ]
    },
    {
      "cell_type": "code",
      "metadata": {
        "id": "aKDJw8ZdA1Fs",
        "colab_type": "code",
        "colab": {}
      },
      "source": [
        "# precision\n",
        "from sklearn.metrics import precision_score\n",
        "precision = precision_score(y_test.T, y_pred)\n",
        "print('Precision: %.3f' % precision)\n",
        "precisions['KNN'] = precision"
      ],
      "execution_count": null,
      "outputs": []
    },
    {
      "cell_type": "code",
      "metadata": {
        "id": "Dc_hLcDwA1Ov",
        "colab_type": "code",
        "colab": {}
      },
      "source": [
        "# fi score\n",
        "f1 =2*((precision*recall)/(precision+recall))\n",
        "print(\"F1 Score \",f1)\n",
        "f1_scores['KNN'] = f1"
      ],
      "execution_count": null,
      "outputs": []
    },
    {
      "cell_type": "code",
      "metadata": {
        "id": "8FymBWCtA1NK",
        "colab_type": "code",
        "colab": {}
      },
      "source": [
        "import pickle\n",
        "filename = 'knn_model.sav'\n",
        "pickle.dump(knn, open(filename, 'wb'))"
      ],
      "execution_count": null,
      "outputs": []
    },
    {
      "cell_type": "code",
      "metadata": {
        "id": "s_faQ8vYBCAk",
        "colab_type": "code",
        "colab": {}
      },
      "source": [
        "from sklearn.tree import DecisionTreeClassifier\n",
        "\n",
        "# Define model. Specify a number for random_state to ensure same results each run\n",
        "dt = DecisionTreeClassifier(random_state=1)\n",
        "\n",
        "# Fit model\n",
        "dt.fit(X_train.T, y_train.T)"
      ],
      "execution_count": null,
      "outputs": []
    },
    {
      "cell_type": "markdown",
      "metadata": {
        "id": "3UQLpVplBJtb",
        "colab_type": "text"
      },
      "source": [
        " Decision Tree"
      ]
    },
    {
      "cell_type": "code",
      "metadata": {
        "id": "drzib9BmBCDy",
        "colab_type": "code",
        "colab": {}
      },
      "source": [
        "acc = dt.score(X_test.T,y_test.T)*100\n",
        "accuracies['Decision Tree'] = acc\n",
        "print(\"Accuracy of Decision Tree: {:.2f}%\".format(acc))"
      ],
      "execution_count": null,
      "outputs": []
    },
    {
      "cell_type": "markdown",
      "metadata": {
        "id": "8lOB3UlnCegT",
        "colab_type": "text"
      },
      "source": [
        "Accuracy"
      ]
    },
    {
      "cell_type": "code",
      "metadata": {
        "id": "LeFpwQqnBCRs",
        "colab_type": "code",
        "colab": {}
      },
      "source": [
        "y_pred=dt.predict(X_test.T)\n",
        "y_pred"
      ],
      "execution_count": null,
      "outputs": []
    },
    {
      "cell_type": "code",
      "metadata": {
        "id": "dhMyyFWiBCVI",
        "colab_type": "code",
        "colab": {}
      },
      "source": [
        "cf_matrix = confusion_matrix(y_test.T, y_pred)\n",
        "\n",
        "sns.heatmap(cf_matrix/np.sum(cf_matrix), annot=True, \n",
        "            fmt='.2%', cmap='Blues')"
      ],
      "execution_count": null,
      "outputs": []
    },
    {
      "cell_type": "markdown",
      "metadata": {
        "id": "4ov_q1kpCnfT",
        "colab_type": "text"
      },
      "source": [
        "Confusion Matrix"
      ]
    },
    {
      "cell_type": "code",
      "metadata": {
        "id": "B27I89PPBCYu",
        "colab_type": "code",
        "colab": {}
      },
      "source": [
        "import scikitplot as skplt\n",
        "import matplotlib.pyplot as plt\n",
        "\n",
        "y_pred_proba = dt.predict_proba(X_test.T)\n",
        "y_true = y_test.T\n",
        "skplt.metrics.plot_roc_curve(y_true, y_pred_proba)\n",
        "plt.show()"
      ],
      "execution_count": null,
      "outputs": []
    },
    {
      "cell_type": "markdown",
      "metadata": {
        "id": "vp1KkRf_CsOV",
        "colab_type": "text"
      },
      "source": [
        "ROC Score"
      ]
    },
    {
      "cell_type": "code",
      "metadata": {
        "id": "qu7UGUzkBCcO",
        "colab_type": "code",
        "colab": {}
      },
      "source": [
        "from sklearn.metrics import recall_score\n",
        "recall = recall_score(y_test, y_pred)\n",
        "print('Recall: %.3f' % recall)\n",
        "recalls['Decision Tree'] = recall"
      ],
      "execution_count": null,
      "outputs": []
    },
    {
      "cell_type": "code",
      "metadata": {
        "id": "FuN72R0LBCgl",
        "colab_type": "code",
        "colab": {}
      },
      "source": [
        "# precision\n",
        "from sklearn.metrics import precision_score\n",
        "precision = precision_score(y_test, y_pred, labels=[1,2], average='micro')\n",
        "print('Precision: %.3f' % precision)\n",
        "precisions['Decision Tree'] = precision"
      ],
      "execution_count": null,
      "outputs": []
    },
    {
      "cell_type": "code",
      "metadata": {
        "id": "g-SL4ABJBCj2",
        "colab_type": "code",
        "colab": {}
      },
      "source": [
        "# fi score\n",
        "f1 = 2*((precision*recall)/(precision+recall))\n",
        "print(\"F1 Score \",f1)\n",
        "f1_scores['Decision Tree']= f1"
      ],
      "execution_count": null,
      "outputs": []
    },
    {
      "cell_type": "code",
      "metadata": {
        "id": "cNE_8dvWBCnX",
        "colab_type": "code",
        "colab": {}
      },
      "source": [
        "import pickle\n",
        "filename = 'dt_model.sav'\n",
        "pickle.dump(dt, open(filename, 'wb'))"
      ],
      "execution_count": null,
      "outputs": []
    },
    {
      "cell_type": "code",
      "metadata": {
        "id": "bxew63KfBCt7",
        "colab_type": "code",
        "colab": {}
      },
      "source": [
        "from sklearn.ensemble import RandomForestClassifier\n",
        "from sklearn.model_selection import cross_val_score\n",
        "rf = RandomForestClassifier(n_estimators=1,random_state=1)\n",
        "rf.fit(X_test.T,y_test.T)"
      ],
      "execution_count": null,
      "outputs": []
    },
    {
      "cell_type": "markdown",
      "metadata": {
        "id": "cpDLliCeC_LM",
        "colab_type": "text"
      },
      "source": [
        "**4. Random Forest**"
      ]
    },
    {
      "cell_type": "code",
      "metadata": {
        "id": "ro94ygsXBCyc",
        "colab_type": "code",
        "colab": {}
      },
      "source": [
        "acc = rf.score(X_test.T,y_test.T)*100\n",
        "accuracies['Random Forest'] = acc\n",
        "print(\"Accuracy of Random Forest: {:.2f}%\".format(acc))"
      ],
      "execution_count": null,
      "outputs": []
    },
    {
      "cell_type": "code",
      "metadata": {
        "id": "Fiq7gEbmBCsB",
        "colab_type": "code",
        "colab": {}
      },
      "source": [
        "y_pred=rf.predict(X_test.T)\n",
        "y_pred"
      ],
      "execution_count": null,
      "outputs": []
    },
    {
      "cell_type": "code",
      "metadata": {
        "id": "j40we2yZBCOx",
        "colab_type": "code",
        "colab": {}
      },
      "source": [
        "cf_matrix = confusion_matrix(y_test.T, y_pred)\n",
        "\n",
        "sns.heatmap(cf_matrix/np.sum(cf_matrix), annot=True, \n",
        "            fmt='.2%', cmap='Blues')"
      ],
      "execution_count": null,
      "outputs": []
    },
    {
      "cell_type": "markdown",
      "metadata": {
        "id": "BUS7ppxZDo6Y",
        "colab_type": "text"
      },
      "source": [
        " Confusion Matrix"
      ]
    },
    {
      "cell_type": "code",
      "metadata": {
        "id": "RoVzcoCYBCJ2",
        "colab_type": "code",
        "colab": {}
      },
      "source": [
        "import scikitplot as skplt\n",
        "import matplotlib.pyplot as plt\n",
        "\n",
        "y_pred_proba = rf.predict_proba(X_test.T)\n",
        "y_true = y_test.T\n",
        "skplt.metrics.plot_roc_curve(y_true, y_pred_proba)\n",
        "plt.show()"
      ],
      "execution_count": null,
      "outputs": []
    },
    {
      "cell_type": "markdown",
      "metadata": {
        "id": "-BN7E1VTECFb",
        "colab_type": "text"
      },
      "source": [
        " ROC Score"
      ]
    },
    {
      "cell_type": "code",
      "metadata": {
        "id": "EERgRWJzDqSd",
        "colab_type": "code",
        "colab": {}
      },
      "source": [
        "from sklearn.metrics import recall_score\n",
        "recall = recall_score(y_test, y_pred)\n",
        "print('Recall: %.3f' % recall)\n",
        "recalls['Random Forest'] = recall"
      ],
      "execution_count": null,
      "outputs": []
    },
    {
      "cell_type": "code",
      "metadata": {
        "id": "PxZrjs80DquD",
        "colab_type": "code",
        "colab": {}
      },
      "source": [
        "# precision\n",
        "from sklearn.metrics import precision_score\n",
        "precision = precision_score(y_test, y_pred, labels=[1,2], average='micro')\n",
        "print('Precision: %.3f' % precision)\n",
        "precisions['Random Forest'] = precision"
      ],
      "execution_count": null,
      "outputs": []
    },
    {
      "cell_type": "code",
      "metadata": {
        "id": "CtzmztTuDq0w",
        "colab_type": "code",
        "colab": {}
      },
      "source": [
        "#f1 score\n",
        "f1 = 2*((precision*recall)/(precision+recall))\n",
        "print(\"F1 Score \",f1)\n",
        "f1_scores['Random Forest']= f1"
      ],
      "execution_count": null,
      "outputs": []
    },
    {
      "cell_type": "code",
      "metadata": {
        "id": "NAvuQ6yPDq43",
        "colab_type": "code",
        "colab": {}
      },
      "source": [
        "import pickle\n",
        "filename = 'rf_model.sav'\n",
        "pickle.dump(rf, open(filename, 'wb'))"
      ],
      "execution_count": null,
      "outputs": []
    },
    {
      "cell_type": "code",
      "metadata": {
        "id": "lxXrsbRJDrDu",
        "colab_type": "code",
        "colab": {}
      },
      "source": [
        ""
      ],
      "execution_count": null,
      "outputs": []
    },
    {
      "cell_type": "code",
      "metadata": {
        "id": "gviHX9rlBCHO",
        "colab_type": "code",
        "colab": {}
      },
      "source": [
        ""
      ],
      "execution_count": null,
      "outputs": []
    }
  ]
}
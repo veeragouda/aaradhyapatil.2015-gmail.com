{
  "nbformat": 4,
  "nbformat_minor": 0,
  "metadata": {
    "colab": {
      "name": "Untitled10.ipynb",
      "provenance": [],
      "collapsed_sections": [],
      "authorship_tag": "ABX9TyMjtmHLp4bIFNwztUQoUMVy",
      "include_colab_link": true
    },
    "kernelspec": {
      "name": "python3",
      "display_name": "Python 3"
    }
  },
  "cells": [
    {
      "cell_type": "markdown",
      "metadata": {
        "id": "view-in-github",
        "colab_type": "text"
      },
      "source": [
        "<a href=\"https://colab.research.google.com/github/veeragouda/aaradhyapatil.2015-gmail.com/blob/master/Untitled10.ipynb\" target=\"_parent\"><img src=\"https://colab.research.google.com/assets/colab-badge.svg\" alt=\"Open In Colab\"/></a>"
      ]
    },
    {
      "cell_type": "code",
      "metadata": {
        "id": "Gd1sMDtj3tSo",
        "colab": {
          "base_uri": "https://localhost:8080/"
        },
        "outputId": "87a50149-e7a4-4cb4-ff1b-c5fd4aafa2e1"
      },
      "source": [
        "def myfunc(n):\n",
        "  return lambda a : a * n\n",
        "\n",
        "mydoubler = myfunc(88)\n",
        "mytripler = myfunc(3)\n",
        "\n",
        "print(mydoubler(11))\n",
        "print(mytripler(11))"
      ],
      "execution_count": null,
      "outputs": [
        {
          "output_type": "stream",
          "text": [
            "968\n",
            "33\n"
          ],
          "name": "stdout"
        }
      ]
    },
    {
      "cell_type": "code",
      "metadata": {
        "id": "uyNnUmG6EToX"
      },
      "source": [
        "def myfunc(n):\n",
        "  return lambda a : a * n"
      ],
      "execution_count": null,
      "outputs": []
    },
    {
      "cell_type": "code",
      "metadata": {
        "id": "XUPoKo-nEoAe"
      },
      "source": [
        "n=6\n",
        "def myfunc(n):\n",
        "  return lambda a : a * n"
      ],
      "execution_count": null,
      "outputs": []
    },
    {
      "cell_type": "code",
      "metadata": {
        "id": "y0BhJaUDErH7"
      },
      "source": [
        "def myfunc(n):\n",
        "  return lambda a : a * n\n",
        "\n",
        "n=3\n",
        "\n"
      ],
      "execution_count": null,
      "outputs": []
    },
    {
      "cell_type": "code",
      "metadata": {
        "id": "OqtoFGRBE1pe",
        "colab": {
          "base_uri": "https://localhost:8080/"
        },
        "outputId": "96a3f82f-a333-49fa-840b-e133878094a6"
      },
      "source": [
        "x = lambda a : a + 10\n",
        "print(x(5))"
      ],
      "execution_count": null,
      "outputs": [
        {
          "output_type": "stream",
          "text": [
            "15\n"
          ],
          "name": "stdout"
        }
      ]
    },
    {
      "cell_type": "code",
      "metadata": {
        "id": "9jiCJK3NFHvZ",
        "colab": {
          "base_uri": "https://localhost:8080/"
        },
        "outputId": "2520b1ab-1659-40e8-b7ce-9b9b316ec1c7"
      },
      "source": [
        "x = lambda a : a + 10\n",
        "print(x(111))"
      ],
      "execution_count": null,
      "outputs": [
        {
          "output_type": "stream",
          "text": [
            "121\n"
          ],
          "name": "stdout"
        }
      ]
    },
    {
      "cell_type": "code",
      "metadata": {
        "id": "A8Pq_rqBFMFl",
        "colab": {
          "base_uri": "https://localhost:8080/"
        },
        "outputId": "fb8302d0-346b-46ad-dfd0-f866b01aef39"
      },
      "source": [
        "for n in \"banana\":\n",
        "  print(n)"
      ],
      "execution_count": null,
      "outputs": [
        {
          "output_type": "stream",
          "text": [
            "b\n",
            "a\n",
            "n\n",
            "a\n",
            "n\n",
            "a\n"
          ],
          "name": "stdout"
        }
      ]
    },
    {
      "cell_type": "code",
      "metadata": {
        "id": "sgkuxNybGuQQ"
      },
      "source": [
        "for x in \"banana``\":\n",
        "  print(x)"
      ],
      "execution_count": null,
      "outputs": []
    }
  ]
}
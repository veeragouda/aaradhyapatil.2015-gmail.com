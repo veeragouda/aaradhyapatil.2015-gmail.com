{
  "nbformat": 4,
  "nbformat_minor": 0,
  "metadata": {
    "colab": {
      "name": "Logistic_reg_codes.ipynb",
      "provenance": [],
      "authorship_tag": "ABX9TyPE4dKkIjj+LExaVZ5PwQDi",
      "include_colab_link": true
    },
    "kernelspec": {
      "name": "python3",
      "display_name": "Python 3"
    }
  },
  "cells": [
    {
      "cell_type": "markdown",
      "metadata": {
        "id": "view-in-github",
        "colab_type": "text"
      },
      "source": [
        "<a href=\"https://colab.research.google.com/github/veeragouda/aaradhyapatil.2015-gmail.com/blob/master/Logistic_reg_codes.ipynb\" target=\"_parent\"><img src=\"https://colab.research.google.com/assets/colab-badge.svg\" alt=\"Open In Colab\"/></a>"
      ]
    },
    {
      "cell_type": "code",
      "metadata": {
        "id": "k9qq47CVNW3B",
        "colab_type": "code",
        "colab": {}
      },
      "source": [
        "### Exploratory Data Analysis"
      ],
      "execution_count": 1,
      "outputs": []
    },
    {
      "cell_type": "markdown",
      "metadata": {
        "id": "ZCfCa5fcOTTR",
        "colab_type": "text"
      },
      "source": [
        "import pandas as pd\n",
        "import numpy as np\n",
        "import matplotlib.pyplot as plt\n",
        "%matplotlib inline\n",
        "\n",
        "\n",
        "\n",
        "> \n",
        "\n"
      ]
    },
    {
      "cell_type": "code",
      "metadata": {
        "id": "m58_xerrN0Zc",
        "colab_type": "code",
        "colab": {}
      },
      "source": [
        "import pandas as pd\n",
        "import numpy as np\n",
        "import matplotlib.pyplot as plt\n",
        "%matplotlib inline\n",
        "\n",
        "df = pd.read_csv(\"\")  # path to import file"
      ],
      "execution_count": null,
      "outputs": []
    },
    {
      "cell_type": "markdown",
      "metadata": {
        "id": "Hv027nsHN-6x",
        "colab_type": "text"
      },
      "source": [
        "data handling"
      ]
    },
    {
      "cell_type": "code",
      "metadata": {
        "id": "ozOEb29hN7kx",
        "colab_type": "code",
        "colab": {}
      },
      "source": [
        "df.head()  # Random head count of data"
      ],
      "execution_count": null,
      "outputs": []
    },
    {
      "cell_type": "code",
      "metadata": {
        "id": "aR-GmuFzOl3Y",
        "colab_type": "code",
        "colab": {}
      },
      "source": [
        "df.info()  # information about the data"
      ],
      "execution_count": null,
      "outputs": []
    },
    {
      "cell_type": "code",
      "metadata": {
        "id": "egta0s4bOl8H",
        "colab_type": "code",
        "colab": {}
      },
      "source": [
        "df.show()   # details of data"
      ],
      "execution_count": null,
      "outputs": []
    },
    {
      "cell_type": "code",
      "metadata": {
        "id": "KCeY6KqVOl_f",
        "colab_type": "code",
        "colab": {}
      },
      "source": [
        "df.index # index of data"
      ],
      "execution_count": null,
      "outputs": []
    },
    {
      "cell_type": "code",
      "metadata": {
        "id": "5W0xyVcJOmCi",
        "colab_type": "code",
        "colab": {}
      },
      "source": [
        "df.describe()  # data summry"
      ],
      "execution_count": null,
      "outputs": []
    },
    {
      "cell_type": "code",
      "metadata": {
        "id": "X0CYDl15OmHv",
        "colab_type": "code",
        "colab": {}
      },
      "source": [
        "df.dtypes()  # types of data "
      ],
      "execution_count": null,
      "outputs": []
    },
    {
      "cell_type": "code",
      "metadata": {
        "id": "cT-PnO_5OmLf",
        "colab_type": "code",
        "colab": {}
      },
      "source": [
        "df.boxplot(column=\"ApplicantIncome\", by=\"Graduate\") # plot the boxplot using Applicantincome and graduate details"
      ],
      "execution_count": null,
      "outputs": []
    },
    {
      "cell_type": "code",
      "metadata": {
        "id": "iKKQISeLPVBl",
        "colab_type": "code",
        "colab": {}
      },
      "source": [
        "df[\"LoanAmount\"].hist(bins=50) # extreme value"
      ],
      "execution_count": null,
      "outputs": []
    },
    {
      "cell_type": "code",
      "metadata": {
        "id": "kV4-HhQvPVFS",
        "colab_type": "code",
        "colab": {}
      },
      "source": [
        "df[\"ApplicantIncome\"].hist(bins=50) # extreme value"
      ],
      "execution_count": null,
      "outputs": []
    },
    {
      "cell_type": "code",
      "metadata": {
        "id": "_-o7bbcfPVIq",
        "colab_type": "code",
        "colab": {}
      },
      "source": [
        "temp1=df[\"Credit_History\"].value_conts(ascending=True)"
      ],
      "execution_count": null,
      "outputs": []
    },
    {
      "cell_type": "code",
      "metadata": {
        "id": "yQZSoLOiPVLb",
        "colab_type": "code",
        "colab": {}
      },
      "source": [
        "temp2 =df.pivot_table(values=\"Loan_Status\",index=[\"Credit_History\"], aggfunc=lambda x:x.map({\"Y\":1, \"N\":0}).mean()\n"
      ],
      "execution_count": null,
      "outputs": []
    },
    {
      "cell_type": "code",
      "metadata": {
        "id": "0w5OJz3PQoFg",
        "colab_type": "code",
        "colab": {}
      },
      "source": [
        "print(\"Frequency table for credit History\")\n",
        "print(temp1)"
      ],
      "execution_count": null,
      "outputs": []
    },
    {
      "cell_type": "code",
      "metadata": {
        "id": "IT1xlISuQoKA",
        "colab_type": "code",
        "colab": {}
      },
      "source": [
        "print(\"\\nprobability of getting loan for each Credit History Class :\")\n",
        "print(temp2)"
      ],
      "execution_count": null,
      "outputs": []
    },
    {
      "cell_type": "code",
      "metadata": {
        "id": "9zB18Qt9QoNW",
        "colab_type": "code",
        "colab": {}
      },
      "source": [
        "df.apply(lambda x: sum(x.isnull()),axis=0) # number of missing values in each column\n"
      ],
      "execution_count": null,
      "outputs": []
    },
    {
      "cell_type": "code",
      "metadata": {
        "id": "R9WqjAAXQoQf",
        "colab_type": "code",
        "colab": {}
      },
      "source": [
        "df[\"LoanAmount\"].fillna(df[\"LoanAmount\"].mean(), inplace=True) # filling the missing values with Mean"
      ],
      "execution_count": null,
      "outputs": []
    },
    {
      "cell_type": "code",
      "metadata": {
        "id": "HPSLSyGFQoVo",
        "colab_type": "code",
        "colab": {}
      },
      "source": [
        "df[\"Credit_history\"].fillna(df[\"Credit_History\"].mean(),inplace=True)\n",
        "df.mean()"
      ],
      "execution_count": null,
      "outputs": []
    },
    {
      "cell_type": "code",
      "metadata": {
        "id": "JY4pkeR4QoZV",
        "colab_type": "code",
        "colab": {}
      },
      "source": [
        "df.types"
      ],
      "execution_count": null,
      "outputs": []
    },
    {
      "cell_type": "code",
      "metadata": {
        "id": "L_S3DrKSTT2B",
        "colab_type": "code",
        "colab": {}
      },
      "source": [
        "from Sklearn.linear_model import LogisticRegression \n",
        "from sklearn.model_selection import KFold\n",
        "from sklearn.ensemble import RandomForestClassifier\n",
        "from skLearn.tree import DecisionTreeClassifier, export_graphviz\n",
        "from sklearnimport metrics\n"
      ],
      "execution_count": null,
      "outputs": []
    },
    {
      "cell_type": "code",
      "metadata": {
        "id": "UXCJRlJqQoep",
        "colab_type": "code",
        "colab": {}
      },
      "source": [
        "X = df.iloc[:,[2:9]] # assigning columns to X\n",
        "y = df.iloc[,10] # assigning column to y\n"
      ],
      "execution_count": null,
      "outputs": []
    },
    {
      "cell_type": "code",
      "metadata": {
        "id": "pPi4ZbfjPVUW",
        "colab_type": "code",
        "colab": {}
      },
      "source": [
        "from sklearn.model_selection import train_test_split\n",
        "X_train, X_test, y_train, y_test = train_test_split(X,y, test_size=.30, random_state=0) splitting the train data and testing data\n"
      ],
      "execution_count": null,
      "outputs": []
    },
    {
      "cell_type": "code",
      "metadata": {
        "id": "vCW3RPpqPVRr",
        "colab_type": "code",
        "colab": {}
      },
      "source": [
        "from sklearn.preprocessing import StandardScaler\n",
        "sc_X = StandardScaler()\n",
        "X_train = sc_X.fit_transform(X_train)\n",
        "X_test = sc_X.fit_transform(X_test)\n"
      ],
      "execution_count": null,
      "outputs": []
    },
    {
      "cell_type": "code",
      "metadata": {
        "id": "ZqyqOixwpQ-8",
        "colab_type": "code",
        "colab": {}
      },
      "source": [
        "from sklearn.linear_model import LogisticRegression\n",
        "LR = LogisticRegression()\n",
        "classifier = LR(random_state=0)\n",
        "classifier.fit(X_train, y_train)\n"
      ],
      "execution_count": null,
      "outputs": []
    },
    {
      "cell_type": "code",
      "metadata": {
        "id": "k0HZVy8wpWRj",
        "colab_type": "code",
        "colab": {}
      },
      "source": [
        "y_pred = classifier.predict(X_test)\n",
        "y_pred"
      ],
      "execution_count": null,
      "outputs": []
    },
    {
      "cell_type": "code",
      "metadata": {
        "id": "zIyPMYW9pWWM",
        "colab_type": "code",
        "colab": {}
      },
      "source": [
        ""
      ],
      "execution_count": null,
      "outputs": []
    },
    {
      "cell_type": "code",
      "metadata": {
        "id": "IoLg9tnppWZ6",
        "colab_type": "code",
        "colab": {}
      },
      "source": [
        ""
      ],
      "execution_count": null,
      "outputs": []
    },
    {
      "cell_type": "code",
      "metadata": {
        "id": "WdWbHQ_XpRHB",
        "colab_type": "code",
        "colab": {}
      },
      "source": [
        ""
      ],
      "execution_count": null,
      "outputs": []
    }
  ]
}